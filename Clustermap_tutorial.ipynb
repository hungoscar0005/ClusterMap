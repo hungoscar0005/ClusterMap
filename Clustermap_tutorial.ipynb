{
 "cells": [
  {
   "cell_type": "markdown",
   "id": "d5e10ff3-ab63-4c9a-9833-233a3a71949d",
   "metadata": {
    "tags": []
   },
   "source": [
    "# Cluster Map\n",
    "**Plot a matrix dataset as a hierarchically-clustered heatmap."
   ]
  },
  {
   "cell_type": "code",
   "execution_count": null,
   "id": "b52faa6a-9cc5-4f02-8923-f6482446ee54",
   "metadata": {
    "tags": []
   },
   "outputs": [],
   "source": [
    "import numpy as np\n",
    "import pandas as pd\n",
    "import seaborn as sns\n",
    "import matplotlib.pyplot as plt\n",
    "\n",
    "%matplotlib inline"
   ]
  },
  {
   "cell_type": "code",
   "execution_count": null,
   "id": "0c1066f3-bcbc-4deb-98ae-2868a47b0885",
   "metadata": {
    "tags": []
   },
   "outputs": [],
   "source": [
    "# Create a dataset of customer purchase records\n",
    "df = pd.DataFrame({\n",
    "    'Customer_ID' : ['C0','C1','C2','C3','C4'],\n",
    "    'GrindingWheel_Diameter' : [200, 250, 200, 300, 250],\n",
    "    'GrindingWheel_Thickness' : [20, 25, 20 , 30, 25],\n",
    "    'GrindingWheel_GrainSize' : [60, 80, 60, 100, 70]\n",
    "})\n",
    "\n",
    "df.to_csv('gw_customer.csv', index=False)"
   ]
  },
  {
   "cell_type": "code",
   "execution_count": null,
   "id": "f9ac9052-0ca0-4a6f-9c35-a46e877707a9",
   "metadata": {
    "tags": []
   },
   "outputs": [],
   "source": [
    "# Load dataset\n",
    "gw_data = pd.read_csv(\"gw_customer.csv\")\n",
    "print(gw_data.head())\n",
    "\n",
    "# Plot a clustered heatmap:\n",
    "customerID = gw_data.pop(\"Customer_ID\")\n",
    "sns.clustermap(gw_data) # Metric: Euclidean Distance , Method: average-linkage agglomerative algorithm\n"
   ]
  },
  {
   "cell_type": "code",
   "execution_count": null,
   "id": "8bda16c3-8207-404a-991a-bb0e0c9009b1",
   "metadata": {
    "tags": []
   },
   "outputs": [],
   "source": [
    "# Use a different similarity metric:\n",
    "# Metric: Correlation, Method: single-linkage agglomerative algorithm\n",
    "sns.clustermap(gw_data, metric = 'correlation', method = 'single')"
   ]
  }
 ],
 "metadata": {
  "kernelspec": {
   "display_name": "Python 3 (ipykernel)",
   "language": "python",
   "name": "python3"
  },
  "language_info": {
   "codemirror_mode": {
    "name": "ipython",
    "version": 3
   },
   "file_extension": ".py",
   "mimetype": "text/x-python",
   "name": "python",
   "nbconvert_exporter": "python",
   "pygments_lexer": "ipython3",
   "version": "3.11.5"
  }
 },
 "nbformat": 4,
 "nbformat_minor": 5
}
